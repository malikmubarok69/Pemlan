{
 "cells": [
  {
   "cell_type": "code",
   "execution_count": 18,
   "metadata": {},
   "outputs": [
    {
     "name": "stdout",
     "output_type": "stream",
     "text": [
      "104\n",
      "105\n",
      "106\n"
     ]
    }
   ],
   "source": [
    "# dictionary key value notasi object {} \n",
    "residents = {'Puffin' : 104, 'Sloth' : 105, 'Burmese Python' : 106}\n",
    "print (residents['Puffin']) # Prints Puffin's room number\n",
    "# Your code here! \n",
    "print (residents['Sloth'])\n",
    "print (residents['Burmese Python'])"
   ]
  },
  {
   "cell_type": "code",
   "execution_count": 40,
   "metadata": {},
   "outputs": [
    {
     "name": "stdout",
     "output_type": "stream",
     "text": [
      "Masukkan text : Malik Mubarok\n",
      "ℳαΓιΚ ℳυβα𝔯θΚ\n"
     ]
    }
   ],
   "source": [
    "kamus = {' ' : ' ', 'a' : 'α', 'b' : 'β', 'c' : 'č', 'd' : 'δ', 'e' : 'ε', 'f' : 'ʃ', 'g' : '9', 'h' : 'Ĥ', 'i' : 'ι', 'j' : 'DJ', 'k' : 'Κ', 'l' : 'Γ', 'm' : 'ℳ', 'n' : 'η', 'o' : 'θ', 'p' : 'þ', 'q' : 'ǫ', 'r' : '𝔯', 's' : '5', 't' : 'τ', 'u' : 'υ', 'v': '℣', 'w' : 'ω', 'x' : '✕', 'y' : 'ψ', 'z' : '☡'}\n",
    "text = input('Masukkan text : ')\n",
    "#ubah ke huruf kecil\n",
    "low_text = text.lower()\n",
    "first = kamus[low_text[0]]\n",
    "i = 1\n",
    "while i < len(low_text):\n",
    "    alay = kamus[low_text[i]]\n",
    "    first = first + alay\n",
    "    i = i + 1\n",
    "print (first)"
   ]
  },
  {
   "cell_type": "code",
   "execution_count": null,
   "metadata": {},
   "outputs": [],
   "source": []
  },
  {
   "cell_type": "code",
   "execution_count": null,
   "metadata": {},
   "outputs": [],
   "source": []
  }
 ],
 "metadata": {
  "kernelspec": {
   "display_name": "Python 3",
   "language": "python",
   "name": "python3"
  },
  "language_info": {
   "codemirror_mode": {
    "name": "ipython",
    "version": 3
   },
   "file_extension": ".py",
   "mimetype": "text/x-python",
   "name": "python",
   "nbconvert_exporter": "python",
   "pygments_lexer": "ipython3",
   "version": "3.7.3"
  }
 },
 "nbformat": 4,
 "nbformat_minor": 2
}
